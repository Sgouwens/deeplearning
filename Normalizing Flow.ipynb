{
 "cells": [
  {
   "cell_type": "code",
   "execution_count": 6,
   "metadata": {},
   "outputs": [],
   "source": [
    "import os\n",
    "import time\n",
    "\n",
    "import torch\n",
    "import torch.nn as nn\n",
    "import torch.optim as optim\n",
    "\n",
    "import matplotlib.pyplot as plt\n",
    "import matplotlib.colors as mcolors\n",
    "import seaborn as sns\n",
    "import pandas as pd\n",
    "import numpy as np\n",
    "\n",
    "from torch.utils.data import DataLoader\n",
    "from torch.distributions.multivariate_normal import MultivariateNormal\n",
    "\n",
    "device = torch.device('cuda' if torch.cuda.is_available() else 'cpu')"
   ]
  },
  {
   "cell_type": "code",
   "execution_count": 9,
   "metadata": {},
   "outputs": [
    {
     "data": {
      "image/png": "[encoded data removed]",
      "text/plain": [
       "<Figure size 640x480 with 1 Axes>"
      ]
     },
     "metadata": {},
     "output_type": "display_data"
    }
   ],
   "source": [
    "N = 1000\n",
    "sd = 0.125\n",
    " \n",
    "# left eye\n",
    "x1 = np.random.normal(loc=-0.5, scale=sd, size=int(N/2/2))\n",
    "y1 = np.random.normal(loc=0.5, scale=sd, size=int(N/2/2))\n",
    "x2 = np.random.normal(loc=0.5, scale=sd, size=int(N/2/2))\n",
    "y2 = np.random.normal(loc=0.5, scale=sd, size=int(N/2/2))\n",
    "theta = np.random.uniform(np.pi, 2*np.pi, size=int(N/2))\n",
    "radius = 0.75\n",
    "x3 = radius * np.cos(theta) + np.random.normal(scale=sd, size=int(N/2))\n",
    "y3 = radius * np.sin(theta) + np.random.normal(scale=sd, size=int(N/2))\n",
    "# combined\n",
    "x = np.concatenate([x1, x2, x3])\n",
    "y = np.concatenate([y1, y2, y3])\n",
    "\n",
    "plt.hist2d(x, y, bins=100);"
   ]
  },
  {
   "cell_type": "code",
   "execution_count": 30,
   "metadata": {},
   "outputs": [
    {
     "data": {
      "text/plain": [
       "tensor([[-0.4823,  0.3458],\n",
       "        [-0.3323,  0.4592],\n",
       "        [-0.5258,  0.5207],\n",
       "        ...,\n",
       "        [-0.3616, -0.5902],\n",
       "        [-0.3728, -0.3964],\n",
       "        [-0.5867, -0.5939]], dtype=torch.float64)"
      ]
     },
     "execution_count": 30,
     "metadata": {},
     "output_type": "execute_result"
    }
   ],
   "source": [
    "x_torch = torch.from_numpy(x).unsqueeze(-1)\n",
    "y_torch = torch.from_numpy(y).unsqueeze(-1)\n",
    "\n",
    "data = torch.cat([x_torch, y_torch], axis=1)\n",
    "data"
   ]
  },
  {
   "cell_type": "code",
   "execution_count": null,
   "metadata": {},
   "outputs": [],
   "source": [
    "class NormalizingFlow(nn.Module):\n",
    "    def __init__(self):\n",
    "        super(NormalizingFlow, self).__init__()\n",
    "        self.network = nn.Sequential(\n",
    "            nn.Linear(2*data_dim, data_dim),\n",
    "            nn.ReLU(),\n",
    "            nn.Linear(data_dim, data_dim),\n",
    "            nn.ReLU(),\n",
    "            nn.Linear(data_dim, data_dim),\n",
    "            nn.ReLU(),\n",
    "            nn.Sigmoid()\n",
    "        )\n",
    "    \n",
    "    def forward(self, x, hinting):\n",
    "        data_cat = torch.cat([x, hinting], axis=1)\n",
    "        return self.network(data_cat)"
   ]
  },
  {
   "cell_type": "code",
   "execution_count": null,
   "metadata": {},
   "outputs": [],
   "source": []
  }
 ],
 "metadata": {
  "kernelspec": {
   "display_name": "pytorch",
   "language": "python",
   "name": "python3"
  },
  "language_info": {
   "codemirror_mode": {
    "name": "ipython",
    "version": 3
   },
   "file_extension": ".py",
   "mimetype": "text/x-python",
   "name": "python",
   "nbconvert_exporter": "python",
   "pygments_lexer": "ipython3",
   "version": "3.11.9"
  }
 },
 "nbformat": 4,
 "nbformat_minor": 2
}
